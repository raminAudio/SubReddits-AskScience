{
 "cells": [
  {
   "cell_type": "markdown",
   "id": "7bc2acb2",
   "metadata": {},
   "source": [
    "# Extracting comments from a subreddit post\n"
   ]
  },
  {
   "cell_type": "code",
   "execution_count": 53,
   "id": "356dde7c",
   "metadata": {},
   "outputs": [],
   "source": [
    "import pandas as pd\n",
    "from collections import Counter\n",
    "import praw # extracting comments per post\n",
    "import pickle\n",
    "from secret import secret # please create your own secret to run this section"
   ]
  },
  {
   "cell_type": "markdown",
   "id": "3aba19cb",
   "metadata": {},
   "source": [
    "Dataset only include the question that is being asked and how many up-votes it's gotten. Other signals such as \n",
    "number of posts commented might be a better indication of a post popularity. I did not use this when training the model. \n"
   ]
  },
  {
   "cell_type": "code",
   "execution_count": 2,
   "id": "01eb910c",
   "metadata": {},
   "outputs": [],
   "source": [
    "path_to_data = '../data/'\n",
    "df_science = pd.read_csv(path_to_data + 'askscience_data.csv').drop('Unnamed: 0',axis=1)"
   ]
  },
  {
   "cell_type": "code",
   "execution_count": 3,
   "id": "6f063577",
   "metadata": {},
   "outputs": [],
   "source": [
    "secret = secret()\n",
    "reddit = praw.Reddit(client_id=secret['client_id'],client_secret=secret['client_secret'], user_agent = secret['user_agent'])   \n",
    "\n",
    "comments = []"
   ]
  },
  {
   "cell_type": "code",
   "execution_count": 4,
   "id": "6ad0d754",
   "metadata": {},
   "outputs": [
    {
     "name": "stdout",
     "output_type": "stream",
     "text": [
      "0.99976218787158146455\r"
     ]
    }
   ],
   "source": [
    "for url in list(df_science.url):\n",
    "    print(len(num_comments)/len(df_science.url),end='\\r')\n",
    "    try:\n",
    "        submission = reddit.submission(url=url)\n",
    "        comments.append((submission.comments.list()))\n",
    "    except:\n",
    "        comments.append('')"
   ]
  },
  {
   "cell_type": "code",
   "execution_count": 8,
   "id": "603cfce1",
   "metadata": {},
   "outputs": [],
   "source": [
    "pickle.dump(comments,open(path_to_data + 'comments.pickle','wb'))"
   ]
  },
  {
   "cell_type": "markdown",
   "id": "917fbf41",
   "metadata": {},
   "source": [
    "# Let's take a look at few of the comments "
   ]
  },
  {
   "cell_type": "code",
   "execution_count": 13,
   "id": "b566f63f",
   "metadata": {},
   "outputs": [],
   "source": [
    "comments = pickle.load(open(path_to_data + 'comments.pickle','rb'))"
   ]
  },
  {
   "cell_type": "code",
   "execution_count": 20,
   "id": "4e911732",
   "metadata": {},
   "outputs": [
    {
     "name": "stdout",
     "output_type": "stream",
     "text": [
      "Post viral cough: why does it get worse after you get better? Tl;dr: why is your cough during an upper respiratory infection not as bad as your post viral cough? (In the absence of asthma or secondary infection)\n",
      "\n",
      "Hey folks! This question is perplexing me and I can’t seem to find a specific answer via google.\n",
      "\n",
      "I think I understand why post viral cough happens in the first place: Your mucosa are already inflamed from the infection and immune response. Your cough reflex is hypersensitive because it kicked into gear to fight the virus. As such, the smallest irritations (such as post nasal drip or cold air) are far more likely to trigger a cough. This takes a while to calm down. \n",
      "\n",
      "What I don’t understand is the severity and duration. Post viral coughs can take way longer to clear than the virus or any other symptoms. And people often complain of their post viral cough being more frequent, dry, painful and disruptive than when they were sick.\n",
      "\n",
      "This has been my experience at least. Sometimes I have a cold and barely cough at all. Then as soon as my nose clears up, coughing fits keep me awake at night for 2 weeks. (And I have no comorbidities or secondary infections.) \n",
      "\n",
      "So what’s going on there? Is there like an inflammation cycle? Are my observations totally off?\n",
      "\n",
      "— \n",
      "EDIT: Thanks so much for these responses! I want to clarify for people requesting/dispensing medical advice: please don’t! It’s against the rules of the sub. My question is *only* about the irritating unpleasant cough that 1) happens after mild illness 2) your doctor tells you not to worry about and 3) goes away on its own.\n"
     ]
    }
   ],
   "source": [
    "idx = 0\n",
    "post = df_science.iloc[idx]\n",
    "print(post.title , post.body)"
   ]
  },
  {
   "cell_type": "code",
   "execution_count": 50,
   "id": "7f89198e",
   "metadata": {},
   "outputs": [
    {
     "name": "stdout",
     "output_type": "stream",
     "text": [
      "number of comments on this post \n",
      "  75\n"
     ]
    }
   ],
   "source": [
    "print(\"number of comments on this post \\n \" , len(comments[idx]))"
   ]
  },
  {
   "cell_type": "code",
   "execution_count": 52,
   "id": "6c9b0396",
   "metadata": {},
   "outputs": [
    {
     "name": "stdout",
     "output_type": "stream",
     "text": [
      "comment: \n",
      "  One thing I think you're misunderstanding:\n",
      "\n",
      ">In the absence of asthma or **secondary infection**\n",
      "\n",
      "Upper/lower respiratory infections are rarely single factor. You've got a virus - influenza, parainfluenza, coronavirus, whatever, and then you've got the secondary bacterial invaders - Staph, Strep, Haemophilus, etc etc etc. Those may linger for a while because of the damage the virus has already done to the bronchial/upper airway lining, as well as to the immune system itself in some cases.  Some of that damage is fixed with a temporary bandaid much like scar tissue, and can take a week or two to heal completely. \n",
      "\n",
      "Here's a review on secondary bacterial infections in cases of viral pneumonia:\n",
      "\n",
      "\n",
      "https://www.ncbi.nlm.nih.gov/pmc/articles/PMC7419580/\n"
     ]
    }
   ],
   "source": [
    "print(\"comment: \\n \" , comments[idx][0].body)"
   ]
  },
  {
   "cell_type": "code",
   "execution_count": null,
   "id": "484e139a",
   "metadata": {},
   "outputs": [],
   "source": []
  }
 ],
 "metadata": {
  "kernelspec": {
   "display_name": "Python 3 (ipykernel)",
   "language": "python",
   "name": "python3"
  },
  "language_info": {
   "codemirror_mode": {
    "name": "ipython",
    "version": 3
   },
   "file_extension": ".py",
   "mimetype": "text/x-python",
   "name": "python",
   "nbconvert_exporter": "python",
   "pygments_lexer": "ipython3",
   "version": "3.8.12"
  }
 },
 "nbformat": 4,
 "nbformat_minor": 5
}
